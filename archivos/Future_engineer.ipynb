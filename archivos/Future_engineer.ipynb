{
 "cells": [
  {
   "cell_type": "code",
   "execution_count": 22,
   "metadata": {},
   "outputs": [],
   "source": [
    "import pandas as pd"
   ]
  },
  {
   "cell_type": "code",
   "execution_count": 23,
   "metadata": {},
   "outputs": [],
   "source": [
    "reviews = pd.read_parquet('D:/escritorio/STEAM/parquet/reviews.parquet')\n",
    "output = pd.read_parquet('D:/escritorio/STEAM/parquet/output_game.parquet')\n",
    "items = pd.read_parquet('D:/escritorio/STEAM/parquet/item.parquet')"
   ]
  },
  {
   "attachments": {},
   "cell_type": "markdown",
   "metadata": {},
   "source": [
    "Preparamos los datos"
   ]
  },
  {
   "cell_type": "code",
   "execution_count": 24,
   "metadata": {},
   "outputs": [
    {
     "data": {
      "text/html": [
       "<div>\n",
       "<style scoped>\n",
       "    .dataframe tbody tr th:only-of-type {\n",
       "        vertical-align: middle;\n",
       "    }\n",
       "\n",
       "    .dataframe tbody tr th {\n",
       "        vertical-align: top;\n",
       "    }\n",
       "\n",
       "    .dataframe thead th {\n",
       "        text-align: right;\n",
       "    }\n",
       "</style>\n",
       "<table border=\"1\" class=\"dataframe\">\n",
       "  <thead>\n",
       "    <tr style=\"text-align: right;\">\n",
       "      <th></th>\n",
       "      <th>genres</th>\n",
       "      <th>app_name</th>\n",
       "      <th>price</th>\n",
       "      <th>item_id</th>\n",
       "      <th>developer</th>\n",
       "      <th>release_year</th>\n",
       "    </tr>\n",
       "  </thead>\n",
       "  <tbody>\n",
       "    <tr>\n",
       "      <th>88310</th>\n",
       "      <td>Action</td>\n",
       "      <td>Lost Summoner Kitty</td>\n",
       "      <td>4.99</td>\n",
       "      <td>761140</td>\n",
       "      <td>Kotoshiro</td>\n",
       "      <td>2018</td>\n",
       "    </tr>\n",
       "    <tr>\n",
       "      <th>88311</th>\n",
       "      <td>Free to Play</td>\n",
       "      <td>Ironbound</td>\n",
       "      <td>0.00</td>\n",
       "      <td>643980</td>\n",
       "      <td>Secret Level SRL</td>\n",
       "      <td>2018</td>\n",
       "    </tr>\n",
       "  </tbody>\n",
       "</table>\n",
       "</div>"
      ],
      "text/plain": [
       "             genres             app_name  price item_id         developer  \\\n",
       "88310        Action  Lost Summoner Kitty   4.99  761140         Kotoshiro   \n",
       "88311  Free to Play            Ironbound   0.00  643980  Secret Level SRL   \n",
       "\n",
       "      release_year  \n",
       "88310         2018  \n",
       "88311         2018  "
      ]
     },
     "execution_count": 24,
     "metadata": {},
     "output_type": "execute_result"
    }
   ],
   "source": [
    "output.rename(columns={'id': 'item_id'}, inplace=True)\n",
    "output.head(2)"
   ]
  },
  {
   "attachments": {},
   "cell_type": "markdown",
   "metadata": {},
   "source": [
    "Unimos los 3 dataframes"
   ]
  },
  {
   "cell_type": "code",
   "execution_count": 25,
   "metadata": {},
   "outputs": [
    {
     "data": {
      "text/html": [
       "<div>\n",
       "<style scoped>\n",
       "    .dataframe tbody tr th:only-of-type {\n",
       "        vertical-align: middle;\n",
       "    }\n",
       "\n",
       "    .dataframe tbody tr th {\n",
       "        vertical-align: top;\n",
       "    }\n",
       "\n",
       "    .dataframe thead th {\n",
       "        text-align: right;\n",
       "    }\n",
       "</style>\n",
       "<table border=\"1\" class=\"dataframe\">\n",
       "  <thead>\n",
       "    <tr style=\"text-align: right;\">\n",
       "      <th></th>\n",
       "      <th>item_id</th>\n",
       "      <th>item_name</th>\n",
       "      <th>playtime_forever</th>\n",
       "      <th>items_count</th>\n",
       "      <th>user_id_x</th>\n",
       "      <th>genres</th>\n",
       "      <th>app_name</th>\n",
       "      <th>price</th>\n",
       "      <th>developer</th>\n",
       "      <th>release_year</th>\n",
       "      <th>posted_year</th>\n",
       "      <th>user_id_y</th>\n",
       "      <th>recommend</th>\n",
       "      <th>review</th>\n",
       "      <th>sentiment_analysis</th>\n",
       "    </tr>\n",
       "  </thead>\n",
       "  <tbody>\n",
       "    <tr>\n",
       "      <th>0</th>\n",
       "      <td>70</td>\n",
       "      <td>Half-Life</td>\n",
       "      <td>0</td>\n",
       "      <td>109</td>\n",
       "      <td>Nikiad</td>\n",
       "      <td>Action</td>\n",
       "      <td>Half-Life</td>\n",
       "      <td>9.99</td>\n",
       "      <td>Valve</td>\n",
       "      <td>1998</td>\n",
       "      <td>2015</td>\n",
       "      <td>EizanAratoFujimaki</td>\n",
       "      <td>True</td>\n",
       "      <td>ADVERTENCIA:Este Análisis contiene posibles Sp...</td>\n",
       "      <td>2</td>\n",
       "    </tr>\n",
       "    <tr>\n",
       "      <th>1</th>\n",
       "      <td>70</td>\n",
       "      <td>Half-Life</td>\n",
       "      <td>0</td>\n",
       "      <td>109</td>\n",
       "      <td>Nikiad</td>\n",
       "      <td>Action</td>\n",
       "      <td>Half-Life</td>\n",
       "      <td>9.99</td>\n",
       "      <td>Valve</td>\n",
       "      <td>1998</td>\n",
       "      <td>2011</td>\n",
       "      <td>GamerFag</td>\n",
       "      <td>True</td>\n",
       "      <td>If you own any half life but not this one that...</td>\n",
       "      <td>0</td>\n",
       "    </tr>\n",
       "  </tbody>\n",
       "</table>\n",
       "</div>"
      ],
      "text/plain": [
       "  item_id  item_name  playtime_forever  items_count user_id_x  genres  \\\n",
       "0      70  Half-Life                 0          109    Nikiad  Action   \n",
       "1      70  Half-Life                 0          109    Nikiad  Action   \n",
       "\n",
       "    app_name  price developer release_year  posted_year           user_id_y  \\\n",
       "0  Half-Life   9.99     Valve         1998         2015  EizanAratoFujimaki   \n",
       "1  Half-Life   9.99     Valve         1998         2011            GamerFag   \n",
       "\n",
       "   recommend                                             review  \\\n",
       "0       True  ADVERTENCIA:Este Análisis contiene posibles Sp...   \n",
       "1       True  If you own any half life but not this one that...   \n",
       "\n",
       "   sentiment_analysis  \n",
       "0                   2  \n",
       "1                   0  "
      ]
     },
     "execution_count": 25,
     "metadata": {},
     "output_type": "execute_result"
    }
   ],
   "source": [
    "# Unir 'itemseda' y 'outputeda' usando 'item_id' como clave\n",
    "merged_df = pd.merge(items, output, on='item_id', how='inner')\n",
    "\n",
    "# Unir 'merged_df' y 'reviewseda' usando 'item_id' como clave\n",
    "juntos = pd.merge(merged_df, reviews, on='item_id', how='inner')\n",
    "\n",
    "# Mostrar el nuevo DataFrame\n",
    "juntos.head(2)"
   ]
  },
  {
   "attachments": {},
   "cell_type": "markdown",
   "metadata": {},
   "source": [
    "Eliminamos datos de nuestra tabla para que se pueda deployar"
   ]
  },
  {
   "cell_type": "code",
   "execution_count": 26,
   "metadata": {},
   "outputs": [],
   "source": [
    "# Determina el tamaño de la muestra deseada\n",
    "tamaño_muestra = 500000\n",
    "\n",
    "# Realiza el muestreo aleatorio\n",
    "muestra = juntos.sample(n=tamaño_muestra, random_state=42)  # Puedes ajustar el valor de 'random_state' para obtener resultados reproducibles"
   ]
  },
  {
   "attachments": {},
   "cell_type": "markdown",
   "metadata": {},
   "source": [
    "Juntamos en una nueva columas las 2 columnas llamadas user_id_x y user_id_y. A una que se llame solamente user_id"
   ]
  },
  {
   "cell_type": "code",
   "execution_count": 27,
   "metadata": {},
   "outputs": [
    {
     "data": {
      "text/html": [
       "<div>\n",
       "<style scoped>\n",
       "    .dataframe tbody tr th:only-of-type {\n",
       "        vertical-align: middle;\n",
       "    }\n",
       "\n",
       "    .dataframe tbody tr th {\n",
       "        vertical-align: top;\n",
       "    }\n",
       "\n",
       "    .dataframe thead th {\n",
       "        text-align: right;\n",
       "    }\n",
       "</style>\n",
       "<table border=\"1\" class=\"dataframe\">\n",
       "  <thead>\n",
       "    <tr style=\"text-align: right;\">\n",
       "      <th></th>\n",
       "      <th>item_id</th>\n",
       "      <th>item_name</th>\n",
       "      <th>playtime_forever</th>\n",
       "      <th>items_count</th>\n",
       "      <th>genres</th>\n",
       "      <th>app_name</th>\n",
       "      <th>price</th>\n",
       "      <th>developer</th>\n",
       "      <th>release_year</th>\n",
       "      <th>posted_year</th>\n",
       "      <th>recommend</th>\n",
       "      <th>review</th>\n",
       "      <th>sentiment_analysis</th>\n",
       "      <th>user_id</th>\n",
       "    </tr>\n",
       "  </thead>\n",
       "  <tbody>\n",
       "    <tr>\n",
       "      <th>685189</th>\n",
       "      <td>4000</td>\n",
       "      <td>Garry's Mod</td>\n",
       "      <td>4974</td>\n",
       "      <td>20</td>\n",
       "      <td>Indie</td>\n",
       "      <td>Garry's Mod</td>\n",
       "      <td>9.99</td>\n",
       "      <td>Facepunch Studios</td>\n",
       "      <td>2006</td>\n",
       "      <td>2014</td>\n",
       "      <td>True</td>\n",
       "      <td>I recommend getting this game because it is su...</td>\n",
       "      <td>2</td>\n",
       "      <td>ignaciomena22</td>\n",
       "    </tr>\n",
       "    <tr>\n",
       "      <th>1067561</th>\n",
       "      <td>304930</td>\n",
       "      <td>Unturned</td>\n",
       "      <td>1822</td>\n",
       "      <td>15</td>\n",
       "      <td>Action</td>\n",
       "      <td>Unturned</td>\n",
       "      <td>0.00</td>\n",
       "      <td>Smartly Dressed Games</td>\n",
       "      <td>2017</td>\n",
       "      <td>2015</td>\n",
       "      <td>True</td>\n",
       "      <td>I've just started this game and already enjoyi...</td>\n",
       "      <td>2</td>\n",
       "      <td>76561198077820683</td>\n",
       "    </tr>\n",
       "  </tbody>\n",
       "</table>\n",
       "</div>"
      ],
      "text/plain": [
       "        item_id    item_name  playtime_forever  items_count  genres  \\\n",
       "685189     4000  Garry's Mod              4974           20   Indie   \n",
       "1067561  304930     Unturned              1822           15  Action   \n",
       "\n",
       "            app_name  price              developer release_year  posted_year  \\\n",
       "685189   Garry's Mod   9.99      Facepunch Studios         2006         2014   \n",
       "1067561     Unturned   0.00  Smartly Dressed Games         2017         2015   \n",
       "\n",
       "         recommend                                             review  \\\n",
       "685189        True  I recommend getting this game because it is su...   \n",
       "1067561       True  I've just started this game and already enjoyi...   \n",
       "\n",
       "         sentiment_analysis            user_id  \n",
       "685189                    2      ignaciomena22  \n",
       "1067561                   2  76561198077820683  "
      ]
     },
     "execution_count": 27,
     "metadata": {},
     "output_type": "execute_result"
    }
   ],
   "source": [
    "muestra['user_id'] = muestra['user_id_x'].fillna(muestra['user_id_y'])\n",
    "\n",
    "# Elimina las columnas user_id_x y user_id_y si es necesario\n",
    "muestra.drop(columns=['user_id_x', 'user_id_y'], inplace=True)\n",
    "\n",
    "muestra.head(2)"
   ]
  },
  {
   "attachments": {},
   "cell_type": "markdown",
   "metadata": {},
   "source": [
    "Consultamos si tenemos valores nullos o lugares vacios"
   ]
  },
  {
   "cell_type": "code",
   "execution_count": 28,
   "metadata": {},
   "outputs": [
    {
     "name": "stdout",
     "output_type": "stream",
     "text": [
      "item_id               0\n",
      "item_name             0\n",
      "playtime_forever      0\n",
      "items_count           0\n",
      "genres                0\n",
      "app_name              0\n",
      "price                 0\n",
      "developer             0\n",
      "release_year          0\n",
      "posted_year           0\n",
      "recommend             0\n",
      "review                0\n",
      "sentiment_analysis    0\n",
      "user_id               0\n",
      "dtype: int64\n"
     ]
    }
   ],
   "source": [
    "print(muestra.isnull().sum())"
   ]
  },
  {
   "attachments": {},
   "cell_type": "markdown",
   "metadata": {},
   "source": [
    "Eliminamos los valores duplicados"
   ]
  },
  {
   "cell_type": "code",
   "execution_count": 33,
   "metadata": {},
   "outputs": [
    {
     "data": {
      "text/html": [
       "<div>\n",
       "<style scoped>\n",
       "    .dataframe tbody tr th:only-of-type {\n",
       "        vertical-align: middle;\n",
       "    }\n",
       "\n",
       "    .dataframe tbody tr th {\n",
       "        vertical-align: top;\n",
       "    }\n",
       "\n",
       "    .dataframe thead th {\n",
       "        text-align: right;\n",
       "    }\n",
       "</style>\n",
       "<table border=\"1\" class=\"dataframe\">\n",
       "  <thead>\n",
       "    <tr style=\"text-align: right;\">\n",
       "      <th></th>\n",
       "      <th>item_id</th>\n",
       "      <th>item_name</th>\n",
       "      <th>playtime_forever</th>\n",
       "      <th>items_count</th>\n",
       "      <th>genres</th>\n",
       "      <th>app_name</th>\n",
       "      <th>price</th>\n",
       "      <th>developer</th>\n",
       "      <th>release_year</th>\n",
       "      <th>posted_year</th>\n",
       "      <th>recommend</th>\n",
       "      <th>review</th>\n",
       "      <th>sentiment_analysis</th>\n",
       "      <th>user_id</th>\n",
       "    </tr>\n",
       "  </thead>\n",
       "  <tbody>\n",
       "    <tr>\n",
       "      <th>685189</th>\n",
       "      <td>4000</td>\n",
       "      <td>Garry's Mod</td>\n",
       "      <td>4974</td>\n",
       "      <td>20</td>\n",
       "      <td>Indie</td>\n",
       "      <td>Garry's Mod</td>\n",
       "      <td>9.99</td>\n",
       "      <td>Facepunch Studios</td>\n",
       "      <td>2006</td>\n",
       "      <td>2014</td>\n",
       "      <td>True</td>\n",
       "      <td>I recommend getting this game because it is su...</td>\n",
       "      <td>2</td>\n",
       "      <td>ignaciomena22</td>\n",
       "    </tr>\n",
       "    <tr>\n",
       "      <th>1067561</th>\n",
       "      <td>304930</td>\n",
       "      <td>Unturned</td>\n",
       "      <td>1822</td>\n",
       "      <td>15</td>\n",
       "      <td>Action</td>\n",
       "      <td>Unturned</td>\n",
       "      <td>0.00</td>\n",
       "      <td>Smartly Dressed Games</td>\n",
       "      <td>2017</td>\n",
       "      <td>2015</td>\n",
       "      <td>True</td>\n",
       "      <td>I've just started this game and already enjoyi...</td>\n",
       "      <td>2</td>\n",
       "      <td>76561198077820683</td>\n",
       "    </tr>\n",
       "  </tbody>\n",
       "</table>\n",
       "</div>"
      ],
      "text/plain": [
       "        item_id    item_name  playtime_forever  items_count  genres  \\\n",
       "685189     4000  Garry's Mod              4974           20   Indie   \n",
       "1067561  304930     Unturned              1822           15  Action   \n",
       "\n",
       "            app_name  price              developer release_year  posted_year  \\\n",
       "685189   Garry's Mod   9.99      Facepunch Studios         2006         2014   \n",
       "1067561     Unturned   0.00  Smartly Dressed Games         2017         2015   \n",
       "\n",
       "         recommend                                             review  \\\n",
       "685189        True  I recommend getting this game because it is su...   \n",
       "1067561       True  I've just started this game and already enjoyi...   \n",
       "\n",
       "         sentiment_analysis            user_id  \n",
       "685189                    2      ignaciomena22  \n",
       "1067561                   2  76561198077820683  "
      ]
     },
     "execution_count": 33,
     "metadata": {},
     "output_type": "execute_result"
    }
   ],
   "source": [
    "# Elimina las filas duplicadas del DataFrame\n",
    "unidos = muestra.drop_duplicates()\n",
    "# Mostrar el DataFrame sin valores duplicados\n",
    "unidos.head(2)"
   ]
  },
  {
   "cell_type": "code",
   "execution_count": 30,
   "metadata": {},
   "outputs": [
    {
     "name": "stdout",
     "output_type": "stream",
     "text": [
      "True\n"
     ]
    }
   ],
   "source": [
    "print(unidos.isin(['', ' ', None]).any().any())"
   ]
  },
  {
   "attachments": {},
   "cell_type": "markdown",
   "metadata": {},
   "source": [
    "Procedemos a guardar en formato parquet"
   ]
  },
  {
   "cell_type": "code",
   "execution_count": 31,
   "metadata": {},
   "outputs": [],
   "source": [
    "unidos.to_parquet('D:/escritorio/STEAM/parquet/engineer.parquet')"
   ]
  }
 ],
 "metadata": {
  "kernelspec": {
   "display_name": "Python 3",
   "language": "python",
   "name": "python3"
  },
  "language_info": {
   "codemirror_mode": {
    "name": "ipython",
    "version": 3
   },
   "file_extension": ".py",
   "mimetype": "text/x-python",
   "name": "python",
   "nbconvert_exporter": "python",
   "pygments_lexer": "ipython3",
   "version": "3.11.9"
  },
  "orig_nbformat": 4
 },
 "nbformat": 4,
 "nbformat_minor": 2
}
